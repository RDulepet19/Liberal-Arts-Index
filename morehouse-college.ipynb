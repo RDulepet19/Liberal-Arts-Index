{
 "cells": [
  {
   "cell_type": "markdown",
   "metadata": {},
   "source": [
    "MIT License\n",
    "\n",
    "Copyright (c) 2019 Riya Dulepet <riyadulepet123@gmail.com>\n",
    "\n",
    "Permission is hereby granted, free of charge, to any person obtaining a copy of this software and associated documentation files (the \"Software\"), to deal in the Software without restriction, including without limitation the rights to use, copy, modify, merge, publish, distribute, sublicense, and/or sell copies of the Software, and to permit persons to whom the Software is furnished to do so, subject to the following conditions:\n",
    "\n",
    "The above copyright notice and this permission notice shall be included in all copies or substantial portions of the Software.\n",
    "\n",
    "THE SOFTWARE IS PROVIDED \"AS IS\", WITHOUT WARRANTY OF ANY KIND, EXPRESS OR IMPLIED, INCLUDING BUT NOT LIMITED TO THE WARRANTIES OF MERCHANTABILITY, FITNESS FOR A PARTICULAR PURPOSE AND NONINFRINGEMENT. IN NO EVENT SHALL THE AUTHORS OR COPYRIGHT HOLDERS BE LIABLE FOR ANY CLAIM, DAMAGES OR OTHER LIABILITY, WHETHER IN AN ACTION OF CONTRACT, TORT OR OTHERWISE, ARISING FROM, OUT OF OR IN CONNECTION WITH THE SOFTWARE OR THE USE OR OTHER DEALINGS IN THE SOFTWARE.\n",
    "\n",
    "Thanks to the entire Columbia INCITE team for suggestions/recommendations, collaboration, critic, advice, and mentoring. This code was generated as part of internship @INCITE Columbia for Lit Index project."
   ]
  },
  {
   "cell_type": "markdown",
   "metadata": {},
   "source": [
    "# Scraper for Morehouse College Course Description"
   ]
  },
  {
   "cell_type": "markdown",
   "metadata": {},
   "source": [
    "## Setup environment\n",
    "* Make sure Java is installed\n",
    "* Download [Apache Tika](http://apache.mirrors.ionfish.org/tika/tika-app-1.19.1.jar)"
   ]
  },
  {
   "cell_type": "markdown",
   "metadata": {},
   "source": [
    "## Download Morehouse College Course Descriptions\n",
    "* [Download Morehouse College Course Description PDF](https://www.morehouse.edu/media/admissions/Course-Catalog-2018-2019_rev1107-2018.pdf)\n",
    "\n"
   ]
  },
  {
   "cell_type": "markdown",
   "metadata": {},
   "source": [
    "## Extract Plain Text file from PDF using Apache TIKA\n",
    "* java -jar tika-app-1.19.1.jar -t Course-Catalog-2018-2019_rev1107-2018.pdf > Morehouse-College-Catalog-2018-2019.txt\n"
   ]
  },
  {
   "cell_type": "markdown",
   "metadata": {},
   "source": [
    "### Extract manually exact name and unit ID\n",
    "[IPED website](https://nces.ed.gov/collegenavigator/?q=Morehouse&s=all&id=140553#general)\n",
    "* `UnitID`\t140553\n",
    "* `Name`\tMorehouse College"
   ]
  },
  {
   "cell_type": "code",
   "execution_count": null,
   "metadata": {},
   "outputs": [],
   "source": [
    "INSTITUTION_ID = '140553'\n",
    "INSTITUTION_NAME = 'Morehouse College'\n",
    "CATALOG_YEAR = '2018' # It's the 2018-2019 academic year catalog\n",
    "CATALOG_URL = 'https://www.morehouse.edu/media/admissions/Course-Catalog-2018-2019_rev1107-2018.pdf'"
   ]
  },
  {
   "cell_type": "code",
   "execution_count": null,
   "metadata": {},
   "outputs": [],
   "source": [
    "import numpy as np\n",
    "import re\n",
    "import json\n",
    "\n",
    "# constants\n",
    "# added manually following departments to map courses\n",
    "MAP_DEPARTMENTS = {\"AAS\":\"African American Studies\", \\\n",
    "                   \"MSL\":\"Military Science and Leadership\", \\\n",
    "                   \"CHI\":\"Chinese Studies\", \\\n",
    "                   \"HSOC\":\"Sociology\", \\\n",
    "                   \"BUS\":\"Business\", \\\n",
    "                   \"HCHE\":\"Chemistry\", \\\n",
    "                   \"HECO\":\"Economics\", \\\n",
    "                   \"HUST\":\"Urban Studies\", \\\n",
    "                   \"HCTM\":\"Cinema, Television, & Emerging Media Studies\", \\\n",
    "                   \"General Education\":\"General Education\", \"BIO\":\"Biology\", \\\n",
    "                   \"BA\":\"Business Administration\", \"CHE\":\"Chemistry\", \\\n",
    "                   \"COM\":\"Communications\", \"CSC\":\"Computer Science\", \\\n",
    "                   \"EGR\":\"Engineering\", \"ECO\":\"Economics\", \\\n",
    "                   \"ENG\":\"English\", \"HIS\":\"History\", \\\n",
    "                   \"HPED\":\"Health and Physical Education\", \\\n",
    "                   \"HLS\":\"Leadership Studies\", \"MTH\":\"Mathematics\", \\\n",
    "                   \"FLF\":\"French\", \"FLG\":\"German\", \\\n",
    "                   \"FLJ\":\"Japanese\", \"FLP\":\"Portuguese\", \\\n",
    "                   \"FLS\":\"Spanish\", \"HMUS\":\"Music\", \\\n",
    "                   \"PHI\":\"Philosophy\", \"REL\":\"Religion\", \\\n",
    "                   \"PHY\":\"Physics\", \"PSC\":\"Political Science\", \\\n",
    "                   \"PSY\":\"Psychology\", \"SOC\":\"Sociology\", \\\n",
    "                   \"UST\":\"Urban Studies\"}\n",
    "\n",
    "REGEX_PREREQUISITE = r'Prerequisite[s]*:\\s*(.*?)\\.*$'\n",
    "PATTERN_REGEX_PREREQUISITE = re.compile(REGEX_PREREQUISITE, re.IGNORECASE)\n",
    "REGEX_COREQUISITE = r'Co\\-*requisite[s]*:\\s*(.*?)\\.|Co\\-*requisite[s]*:\\s*(.*?)\\.*$'\n",
    "PATTERN_REGEX_COREQUISITE = re.compile(REGEX_COREQUISITE, re.IGNORECASE)\n"
   ]
  },
  {
   "cell_type": "code",
   "execution_count": null,
   "metadata": {},
   "outputs": [],
   "source": [
    "class Department:\n",
    "    line_no = 0\n",
    "    code = \"\"\n",
    "    desc = \"\"\n",
    "\n",
    "class Course:\n",
    "    line_no = 0\n",
    "    dept_code = \"\"\n",
    "    title = \"\"\n",
    "    code = \"\"\n",
    "    desc = \"\"\n",
    "    credit_hours = \"\"\n",
    "\n",
    "Departments = {}\n",
    "Courses = {}\n",
    "Delimiters = {}\n"
   ]
  },
  {
   "cell_type": "code",
   "execution_count": null,
   "metadata": {},
   "outputs": [],
   "source": [
    "# department names extraction with line numbers\n",
    "import re\n",
    "pattern = re.compile(\"^[A-Z]+\\s+[A-Z]{0,}\\s*\\(([A-Z]+)\\)|^Courses in ([\\w ]{1,})$\")\n",
    "\n",
    "num_matches = 0\n",
    "for i, line in enumerate(open('Morehouse-College-Catalog-2018-2019.txt')):\n",
    "    for match in re.finditer(pattern, line):\n",
    "        match_tokens = list(match.groups())\n",
    "        match_tokens = [word.strip() for word in match_tokens if word]\n",
    "        \n",
    "        print('Found on line %s: %s' % (i+1, match_tokens[0]))\n",
    "        a_dept = Department()\n",
    "        a_dept.line_no = i+1\n",
    "        a_dept.code = match_tokens[0]\n",
    "        a_dept.desc = MAP_DEPARTMENTS[match_tokens[0]]\n",
    "        Departments[int(a_dept.line_no)] = a_dept\n",
    "        \n",
    "        num_matches += 1\n",
    "print(\"num_matches=\", num_matches)\n"
   ]
  },
  {
   "cell_type": "markdown",
   "metadata": {},
   "source": [
    "for key in sorted(Departments.keys()):\n",
    "    print(\"%s: %s\" % (key, Departments[key].desc))"
   ]
  },
  {
   "cell_type": "code",
   "execution_count": null,
   "metadata": {},
   "outputs": [],
   "source": [
    "# strong indicator of end of department\n",
    "import re\n",
    "\n",
    "num_matches = 0\n",
    "for i, line in enumerate(open('Morehouse-College-Catalog-2018-2019.txt')):\n",
    "    if line.strip().isupper():\n",
    "        # look for all upper case lines\n",
    "    # for match in re.finditer(pattern, line):\n",
    "        # match_tokens = list(match.groups())\n",
    "        # match_tokens = [word.strip() for word in match_tokens if word]\n",
    "        \n",
    "        # print('Found on line %s: %s' % (i+1, match_tokens[0]))\n",
    "        # Delimiters[int(i+1)] = match_tokens[0]\n",
    "        print('Found on line %s: %s' % (i+1, line.strip()))\n",
    "        Delimiters[int(i+1)] = line.strip()\n",
    "        num_matches += 1\n",
    "print(\"num_matches=\", num_matches)"
   ]
  },
  {
   "cell_type": "markdown",
   "metadata": {},
   "source": [
    "for key in sorted(Delimiters.keys()):\n",
    "    print(\"%s: %s\" % (key, Delimiters[key]))"
   ]
  },
  {
   "cell_type": "code",
   "execution_count": null,
   "metadata": {},
   "outputs": [],
   "source": [
    "def getClosestDelimiterLineNo(course_line_no):\n",
    "    for key in sorted(Delimiters.keys()):\n",
    "        if key > course_line_no:\n",
    "            return key\n",
    "    return -1\n",
    "\n",
    "def getClosestDepartment(course_line_no):\n",
    "    dept_match = \"\"\n",
    "    \n",
    "    for key in sorted(Departments.keys()):\n",
    "        # print(\"%s: %s\" % (key, Departments[key].desc))\n",
    "        if key > course_line_no:\n",
    "            break\n",
    "        dept_match = Departments[key].code\n",
    "        \n",
    "    return dept_match"
   ]
  },
  {
   "cell_type": "code",
   "execution_count": null,
   "metadata": {},
   "outputs": [],
   "source": [
    "# course number, title, credit hours extraction with line numbers\n",
    "import re\n",
    "pattern = re.compile(\"^ *([A-Z0-9\\-]{3,9} [A-Z0-9\\-]{0,4})[\\.]{0,1} (.*) +([\\d\\-]{1,4}) +[\\w]{0,6} *hours* *$|^ *([A-Z0-9\\-]{3,9})[\\.]{0,1}\\ (.*) +([\\d\\-]{1,4}) +[\\w]{0,6} *hours* *$\")\n",
    "\n",
    "num_matches = 0\n",
    "for i, line in enumerate(open('Morehouse-College-Catalog-2018-2019.txt')):\n",
    "    # print(\"outer loop\")\n",
    "    for match in re.finditer(pattern, line):\n",
    "        # print(\"inner loop\")\n",
    "        match_tokens = list(match.groups())\n",
    "        match_tokens = [word.strip() for word in match_tokens if word]\n",
    "        if any(x in match_tokens[1] for x in [\"hour\", \"hours\", \"Elective\"]):\n",
    "            continue\n",
    "        print('Found on line %s: %s' % (i+1, line))\n",
    "        dept_pattern = re.compile(\"^([A-Z]+)\")\n",
    "        dept_name = re.match(dept_pattern, match_tokens[0])\n",
    "        # initialize new course\n",
    "        a_course = Course()\n",
    "        a_course.line_no = int(i+1)\n",
    "        a_course.dept_code = \"\"\n",
    "        a_course.ignore = False\n",
    "        a_course.title = match_tokens[1].strip()\n",
    "        a_course.code = match_tokens[0].strip()\n",
    "        a_course.desc = \"\"\n",
    "        a_course.closest_delimeter = -1\n",
    "        a_course.offerings = \"\"\n",
    "        a_course.description = \"\"\n",
    "        a_course.prerequisites = \"\"\n",
    "        a_course.corequisites = \"\"\n",
    "        a_course.notes = \"\"\n",
    "        a_course.requirements = \"\"\n",
    "        \n",
    "        a_course.credit_hours = match_tokens[2].strip()\n",
    "        if (dept_name):\n",
    "            a_course.dept_code = match_tokens[0][dept_name.span()[0]:dept_name.span()[1]].strip()\n",
    "            a_course.code = match_tokens[0][dept_name.span()[1]:].strip()\n",
    "            # print(\"\\tdepartment_code = \", a_course.dept_code)\n",
    "            # print(\"\\tcourse_no = \", a_course.code)\n",
    "        else:\n",
    "            a_course.dept_code = getClosestDepartment(int(i+1))\n",
    "        a_course.closest_delimeter = getClosestDelimiterLineNo(int(i+1))\n",
    "        # print('\\tclosest delimiter = ', a_course.closest_delimeter)\n",
    "        ################## HANDLE SOME SPECIAL CASES\n",
    "        # handle some special cases with messed up title (mixed with either course number or credit hours)\n",
    "        # case 1: messed up credit hours mixed in title\n",
    "        split_fields = a_course.title.split(\"0 to\")\n",
    "        if len(split_fields) == 2:\n",
    "            # yes match\n",
    "            a_course.title = split_fields[0].strip()\n",
    "            a_course.credit_hours = \"0 to \" + a_course.credit_hours.strip()\n",
    "        # case 2: messed up course number mixed in title\n",
    "        if not re.match(\"^[A-Z]\", a_course.title):\n",
    "            # doesn't start with caps letter, then something is messed and mixed\n",
    "            courseno_pattern = re.compile(\"^(.*?)\\.*\\s([A-Z].*)$\")\n",
    "            # courseno_pattern = re.compile(\"^([0-9]+[A-Z]*[\\-][0-9]+[A-Z]*)\\.*\\s(.*)$\")\n",
    "            found_courseno_in_title = re.findall(courseno_pattern, a_course.title)\n",
    "            if len(found_courseno_in_title) > 0:\n",
    "                a_course.code = a_course.code + \" \" + found_courseno_in_title[0][0]\n",
    "                a_course.code = a_course.code.strip()\n",
    "                a_course.title = found_courseno_in_title[0][1]\n",
    "        # case 4: (Fall) and 401 (Spring) The Africana Studies Capstone\n",
    "        courseno_pattern = re.compile(\"^(\\(Fall\\)\\sand\\s\\d+\\s\\(Spring\\))\\s(.*)\")\n",
    "        found_courseno_in_title = re.findall(courseno_pattern, a_course.title)\n",
    "        if len(found_courseno_in_title) > 0:\n",
    "            a_course.code = a_course.code + ' ' + found_courseno_in_title[0][0]\n",
    "            a_course.title = found_courseno_in_title[0][1]\n",
    "        # skip if empty\n",
    "        if a_course.code.strip():\n",
    "            Courses[a_course.line_no] = a_course\n",
    "        num_matches += 1\n",
    "print(\"num_matches=\", num_matches)        "
   ]
  },
  {
   "cell_type": "code",
   "execution_count": null,
   "metadata": {
    "scrolled": true
   },
   "outputs": [],
   "source": [
    "for key in sorted(Courses.keys()):\n",
    "    print(\"%d: %s, %s, %s, %s\" % (key, Courses[key].dept_code, Courses[key].code, Courses[key].title, Courses[key].credit_hours))\n"
   ]
  },
  {
   "cell_type": "code",
   "execution_count": null,
   "metadata": {},
   "outputs": [],
   "source": [
    "# now go through the file again to fill course description\n",
    "current_course = None\n",
    "num_empty_lines = 0\n",
    "for i, line in enumerate(open('Morehouse-College-Catalog-2018-2019.txt')):\n",
    "    if i+1 in Courses.keys():\n",
    "        # print(\"found course at: %d\" % (i+1))\n",
    "        current_course = Courses[i+1]\n",
    "        num_empty_lines = 0\n",
    "    else:\n",
    "        if current_course:\n",
    "            if  (i+1 > current_course.line_no) and (i+1 < current_course.closest_delimeter):\n",
    "                # check if empty line\n",
    "                if not line.strip():\n",
    "                    num_empty_lines += 1\n",
    "                else:\n",
    "                    num_empty_lines = 0\n",
    "                    # if we find course pattern inside course, then ignore the course\n",
    "                    course_pattern = re.compile(\"^\\s*([A-Z0-9\\-]{3,9}\\s[A-Z0-9\\-]{0,4})[\\.]{0,1}\\s(.*)\\s+([\\d\\-]{1,4})|^\\s*([A-Z0-9\\-]{3,9})[\\.]{0,1}\\\\s(.*)\\s+([\\d\\-]{1,4})\")\n",
    "                    found_course_patterns = re.findall(course_pattern, line.strip())\n",
    "                    if len(found_course_patterns) > 0:\n",
    "                        # bunch of empty lines so assume end of current course\n",
    "                        current_course.ignore = True\n",
    "                        current_course = None\n",
    "                        num_empty_lines = 0\n",
    "                    else:\n",
    "                        current_course.desc += \" \"\n",
    "                        current_course.desc += line.strip()\n",
    "                # if num_empty_lines >= 4:\n",
    "                    # bunch of empty lines so assume end of current course\n",
    "                    # current_course = None\n",
    "                    # num_empty_lines = 0"
   ]
  },
  {
   "cell_type": "code",
   "execution_count": null,
   "metadata": {},
   "outputs": [],
   "source": [
    "# fill prerequisite and corequisite details, if present\n",
    "for key in sorted(Courses.keys()):\n",
    "    course = Courses[key]\n",
    "    if not course.ignore:\n",
    "        val = PATTERN_REGEX_PREREQUISITE.findall(course.desc)\n",
    "        if len(val) > 0:\n",
    "            course.prerequisites = val[0]\n",
    "        val = PATTERN_REGEX_COREQUISITE.findall(course.desc)\n",
    "        if len(val) > 0:\n",
    "            val = [word.strip() for word in val[0] if word]\n",
    "            course.corequisites = val[0]\n"
   ]
  },
  {
   "cell_type": "code",
   "execution_count": null,
   "metadata": {},
   "outputs": [],
   "source": [
    "for key in sorted(Courses.keys()):\n",
    "    if not Courses[key].ignore:\n",
    "        print(\"\\n%d: %s, %s, %s, %s\" % (key, Courses[key].dept_code, Courses[key].code, Courses[key].title, Courses[key].credit_hours))\n",
    "        print (\"\\t%s\" % (Courses[key].desc))\n",
    "        print (\"\\t\\tPrerequisites: %s\" % (Courses[key].prerequisites))\n",
    "        print (\"\\t\\tcorequisites: %s\" % (Courses[key].corequisites))\n"
   ]
  },
  {
   "cell_type": "code",
   "execution_count": null,
   "metadata": {},
   "outputs": [],
   "source": [
    "import pandas as pd\n",
    "      \n",
    "def dump_output(courses, file_to_save):\n",
    "    df_college = pd.DataFrame(columns=['ipeds_id', 'ipeds_name', 'catalog_year', 'url', \\\n",
    "                                       'subject', 'subject_code', 'course_number', 'description', \\\n",
    "                                       'course_name', 'credits', 'prereqs', 'corequisites_raw', \\\n",
    "                                       'offerings_raw', 'notes_raw', 'requirements_raw'])\n",
    "    for key in sorted(courses.keys()):\n",
    "        course = Courses[key]\n",
    "        # handle only records with course description, otherwise ignore\n",
    "        if not course.ignore:\n",
    "            df_college.loc[len(df_college)] = [INSTITUTION_ID, INSTITUTION_NAME, \\\n",
    "                                               CATALOG_YEAR, CATALOG_URL, \\\n",
    "                                               MAP_DEPARTMENTS[course.dept_code], \\\n",
    "                                               course.dept_code, \\\n",
    "                                               course.code, \\\n",
    "                                               course.desc, \\\n",
    "                                               course.title, \\\n",
    "                                               course.credit_hours, \\\n",
    "                                               course.prerequisites, course.corequisites, \\\n",
    "                                               course.offerings, \\\n",
    "                                               course.notes, \\\n",
    "                                               course.requirements]\n",
    "    df_college.to_csv(file_to_save, index=False)"
   ]
  },
  {
   "cell_type": "code",
   "execution_count": null,
   "metadata": {
    "scrolled": false
   },
   "outputs": [],
   "source": [
    "    dump_output(Courses, \"data/morehouse_college_raw.csv\")"
   ]
  }
 ],
 "metadata": {
  "kernelspec": {
   "display_name": "Python 3",
   "language": "python",
   "name": "python3"
  },
  "language_info": {
   "codemirror_mode": {
    "name": "ipython",
    "version": 3
   },
   "file_extension": ".py",
   "mimetype": "text/x-python",
   "name": "python",
   "nbconvert_exporter": "python",
   "pygments_lexer": "ipython3",
   "version": "3.6.5"
  }
 },
 "nbformat": 4,
 "nbformat_minor": 2
}
