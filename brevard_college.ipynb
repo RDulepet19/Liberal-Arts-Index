{
 "cells": [
  {
   "cell_type": "markdown",
   "metadata": {},
   "source": [
    "MIT License\n",
    "\n",
    "Copyright (c) 2018 Riya Dulepet <riyadulepet123@gmail.com>\n",
    "\n",
    "Permission is hereby granted, free of charge, to any person obtaining a copy of this software and associated documentation files (the \"Software\"), to deal in the Software without restriction, including without limitation the rights to use, copy, modify, merge, publish, distribute, sublicense, and/or sell copies of the Software, and to permit persons to whom the Software is furnished to do so, subject to the following conditions:\n",
    "\n",
    "The above copyright notice and this permission notice shall be included in all copies or substantial portions of the Software.\n",
    "\n",
    "THE SOFTWARE IS PROVIDED \"AS IS\", WITHOUT WARRANTY OF ANY KIND, EXPRESS OR IMPLIED, INCLUDING BUT NOT LIMITED TO THE WARRANTIES OF MERCHANTABILITY, FITNESS FOR A PARTICULAR PURPOSE AND NONINFRINGEMENT. IN NO EVENT SHALL THE AUTHORS OR COPYRIGHT HOLDERS BE LIABLE FOR ANY CLAIM, DAMAGES OR OTHER LIABILITY, WHETHER IN AN ACTION OF CONTRACT, TORT OR OTHERWISE, ARISING FROM, OUT OF OR IN CONNECTION WITH THE SOFTWARE OR THE USE OR OTHER DEALINGS IN THE SOFTWARE.\n",
    "\n",
    "Thanks to the entire Columbia INCITE team for suggestions/recommendations, collaboration, critic, advice, and mentoring. This code was generated as part of internship @INCITE Columbia for Lit Index project."
   ]
  },
  {
   "cell_type": "markdown",
   "metadata": {},
   "source": [
    "# Scraper for Brevard College Course Description"
   ]
  },
  {
   "cell_type": "markdown",
   "metadata": {},
   "source": [
    "## Setup environment\n",
    "* Make sure Java is installed\n",
    "* Download [Apache Tika](http://apache.mirrors.ionfish.org/tika/tika-app-1.19.1.jar)"
   ]
  },
  {
   "cell_type": "markdown",
   "metadata": {},
   "source": [
    "## Download Brevard College Course Description\n",
    "* [Download Brevard College Course Description PDF](https://brevard.edu/wp-content/uploads/2017/08/2017catalog_web-1.pdf)"
   ]
  },
  {
   "cell_type": "markdown",
   "metadata": {},
   "source": [
    "## Extract Plain Text file from PDF using Apache TIKA\n",
    "* java  -jar tika-app-1.19.1.jar -t brevard-course_catalog.pdf > brevard-course_catalog.txt*"
   ]
  },
  {
   "cell_type": "markdown",
   "metadata": {},
   "source": [
    "### Extract manually exact name and unit ID\n",
    "[IPED website](https://nces.ed.gov/ipeds/datacenter/InstitutionList.aspx?addUnitID=acb4b3abb1b1)\n",
    "* `UnitID`\t198066\n",
    "* `Name`\tBrevard College"
   ]
  },
  {
   "cell_type": "code",
   "execution_count": 2,
   "metadata": {},
   "outputs": [],
   "source": [
    "INSTITUTION_ID = '198066'\n",
    "INSTITUTION_NAME = 'Brevard College'\n",
    "CATALOG_YEAR = '2017' # It's the 2017-2018 academic year catalog\n",
    "CATALOG_URL = 'https://brevard.edu/wp-content/uploads/2017/08/2017catalog_web-1.pdf'"
   ]
  },
  {
   "cell_type": "markdown",
   "metadata": {},
   "source": [
    "### Rules of extraction (for each department)\n",
    "* Sequence is important\n",
    "* Line starting with **COURSES** - Indicates start of course descriptions\n",
    "* Line starting with **FACULTY** - Indicates end of course descriptions\n",
    "* Department name is line that contains case-sensitive, for example ACCOUNTING (ACC) or ART HISTORY (ART) on its own\n",
    "\n",
    "### Rules of Extraction (for each course)\n",
    "* Sequence is important\n",
    "* Line containing **Semester Hour(s)** at the end should be treated as new course\n",
    "* Ignore all empty lines\n",
    "* Example line in the format \"WLE 101 Introduction to Outdoor Education 4 Semester Hours\" is start of a new course\n",
    "* It should be broken into `Course Code` (alphanumeric), `Course Title` (string could be multiple words), `Credit Hours` (floating point number with decimal) **Credit Hours**\n",
    "* The next non-empty line should be treated as `Course Description` (some paragraph/multiple lines of text, should be combined into one line)\n",
    "* The `Course Description` can be used to parse out optionally, `Offerings`, `Prerequisites`, `Lessons`, `Labs`, and `Notes`\n",
    "\n",
    "\n",
    "## Solution Architecture\n",
    "#### To extract desired Course Descriptions, we define primarily two classes:\n",
    "* `Department`\n",
    "* `Course`\n",
    "#### In addition:\n",
    "* `Department` is a container for number of `Course`(s)\n",
    "* `Departments` is a `list/collection` of `Department`\n",
    "#### Processing Methodology implements the Rules described earlier for parsing each `Department` and each `Course' within it"
   ]
  },
  {
   "cell_type": "code",
   "execution_count": 3,
   "metadata": {},
   "outputs": [],
   "source": [
    "import re\n",
    "# constants\n",
    "REGEX_START_DEPARTMENTS = r'^COURSES\\s*$'\n",
    "PATTERN_REGEX_START_DEPARTMENTS = re.compile(REGEX_START_DEPARTMENTS)\n",
    "\n",
    "REGEX_END_DEPARTMENTS = r'^FACULTY\\s*$'\n",
    "PATTERN_REGEX_END_DEPARTMENTS = re.compile(REGEX_END_DEPARTMENTS)\n",
    "\n",
    "REGEX_DEPARTMENT_NAME = r'^([A-Z ]+)\\s*\\([A-Z]+\\)\\s*$'\n",
    "PATTERN_REGEX_DEPARTMENT_NAME = re.compile(REGEX_DEPARTMENT_NAME)\n",
    "\n",
    "\n",
    "REGEX_NEW_COURSE = r'^([A-Z]{3,3} [0-9]{3,3}[A-Z\\*\\/]{0,1}[0-9]{0,3})\\s+([\\w \\-:\\(\\)\\/&,’]*)\\s{2,}([0-9\\-]+)\\s+Semester Hour'\n",
    "PATTERN_REGEX_NEW_COURSE = re.compile(REGEX_NEW_COURSE, re.IGNORECASE)\n",
    "\n",
    "REGEX_DOCUMENT_HEADER = r'^\\s*[0-9]+\\s*$'\n",
    "PATTERN_REGEX_DOCUMENT_HEADER = re.compile(REGEX_DOCUMENT_HEADER)\n",
    "\n",
    "IGNORE_DOCUMENT_HEADER_PATTERN_LINES = ['C', 'ou', 'rse D', 'escription', 's', 'rs', 'e ', 'D', 'es', 'cr', 'ip', 'ti', 'on']\n"
   ]
  },
  {
   "cell_type": "code",
   "execution_count": 4,
   "metadata": {},
   "outputs": [],
   "source": [
    "import json\n",
    "\n",
    "class Course:\n",
    "    'Common base class for all courses'\n",
    "    REGEX_OFFERINGS = r'Offered\\s*(.*?)\\.'\n",
    "    PATTERN_REGEX_OFFERINGS = re.compile(REGEX_OFFERINGS, re.IGNORECASE)\n",
    "\n",
    "    REGEX_PREREQUISITE = r'Prerequisite[s]*:\\s*(.*?)\\.'\n",
    "    PATTERN_REGEX_PREREQUISITE = re.compile(REGEX_PREREQUISITE, re.IGNORECASE)\n",
    "\n",
    "    REGEX_NOTES = r'Note[s]*:\\s*(.*?)\\.'\n",
    "    PATTERN_REGEX_NOTES = re.compile(REGEX_NOTES, re.IGNORECASE)\n",
    "\n",
    "    REGEX_LESSONS_LABS = r'([A-Za-z0-9\\.]+)\\s*hours*.*?and ([A-Za-z0-9\\.]+)\\s*hours*'\n",
    "    PATTERN_REGEX_LESSONS_LABS = re.compile(REGEX_LESSONS_LABS, re.IGNORECASE)\n",
    "\n",
    "\n",
    "    # make class JSON serializable\n",
    "    def toJSON(self):\n",
    "        return json.dumps(self, default=lambda o: o.__dict__, \n",
    "            sort_keys=True, indent=4)\n",
    "        \n",
    "    def __repr__(self):\n",
    "        from pprint import pformat\n",
    "        return pformat(vars(self), indent=4, width=1)\n",
    "    \n",
    "    def __init__(self, code = None, name = None, credit_hours = None):\n",
    "        # initialize class\n",
    "        self.code = code\n",
    "        self.name = name\n",
    "        self.credit_hours = credit_hours\n",
    "        \n",
    "        # other member variables\n",
    "        self.offerings = \"\"\n",
    "        self.description = \"\"\n",
    "        self.lessons = \"\"\n",
    "        self.labs = \"\"\n",
    "        self.prerequisites = \"\"\n",
    "        self.notes = \"\"\n",
    "\n",
    "    def set_code(self, code):\n",
    "        self.code = code\n",
    "    \n",
    "    def set_name(self, name):\n",
    "        self.name = name\n",
    "    \n",
    "    def set_credit_hours(self, credit_hours):\n",
    "        self.credit_hours = credit_hours\n",
    "    \n",
    "    def check_and_update_offerings_description_lines(self, line):\n",
    "        self.description += \" \"\n",
    "        self.description += line\n"
   ]
  },
  {
   "cell_type": "code",
   "execution_count": 5,
   "metadata": {},
   "outputs": [],
   "source": [
    "import json\n",
    "class Department:\n",
    "    'Common base class for all departments'\n",
    "\n",
    "    def __repr__(self):\n",
    "        from pprint import pformat\n",
    "        return pformat(vars(self), indent=4, width=1)\n",
    "    \n",
    "    def __init__(self, institution_id = None, institution_name = None, \\\n",
    "                 catalog_year = None, url = None, name = None, num_of_courses = None):\n",
    "        # initialize class\n",
    "        self.institution_id = institution_id\n",
    "        self.institution_name = institution_name\n",
    "        self.catalog_year = catalog_year\n",
    "        self.url = url\n",
    "        self.department_name = name\n",
    "        self.courses = []\n",
    "\n",
    "    # make class JSON serializable\n",
    "    def toJSON(self):\n",
    "        return json.dumps(self, default=lambda o: o.__dict__, \n",
    "            sort_keys=True, indent=4)\n",
    "    \n",
    "    def set_department_name(self, department_name):\n",
    "        self.department_name = department_name\n",
    "\n",
    "    def add_course(self, course):\n",
    "        self.courses.append(course)\n",
    "        \n",
    "    def display_institution_id(self):\n",
    "        print (\"Institution ID: %s\" % self.institution_id)\n",
    "        \n",
    "    def display_institution_name(self):\n",
    "        print (\"Institution Name: %s\" % self.institution_name)\n",
    "        \n",
    "    def display_department_name(self):\n",
    "        print (\"Department Name: %s\" % self.department_name)\n",
    "\n",
    "    def display_number_of_courses(self):\n",
    "        print (\"Number of Courses: %d\" % len(self.courses))\n"
   ]
  },
  {
   "cell_type": "code",
   "execution_count": 6,
   "metadata": {},
   "outputs": [],
   "source": [
    "import pandas as pd\n",
    "      \n",
    "def dump_output(departments, file_to_save):\n",
    "    df_college = pd.DataFrame(columns=['ipeds_id', 'ipeds_name', 'catalog_year', 'url', \\\n",
    "                                       'subject', 'subject_code', 'course_number', 'description', \\\n",
    "                                       'course_name', 'credits', 'prereqs', \\\n",
    "                                       'offerings_raw', 'lessons_raw', 'labs_raw', 'notes_raw'])\n",
    "    for department in departments:\n",
    "        for course in department.courses:\n",
    "            # handle only records with course description, otherwise ignore\n",
    "            if course.description.strip():\n",
    "                df_college.loc[len(df_college)] = [department.institution_id, department.institution_name, \\\n",
    "                                                   department.catalog_year, department.url, \\\n",
    "                                                   department.department_name.strip(), \\\n",
    "                                                   re.compile(r'^([A-Za-z]+)(.*)$').findall(course.code)[0][0], \\\n",
    "                                                   re.compile(r'^([A-Za-z]+)(.*)$').findall(course.code)[0][1], \\\n",
    "                                                   course.description.strip(), course.name.strip(), \\\n",
    "                                                   str(course.credit_hours), \\\n",
    "                                                   course.prerequisites.strip(), str(course.offerings).strip(), \\\n",
    "                                                   str(course.lessons).strip(), str(course.labs).strip(), \\\n",
    "                                                   str(course.notes).strip()]\n",
    "    df_college.to_csv(file_to_save, index=False)"
   ]
  },
  {
   "cell_type": "code",
   "execution_count": 7,
   "metadata": {},
   "outputs": [],
   "source": [
    "import re, random\n",
    "Departments = []\n",
    "def main():\n",
    "    global INSTITUTION_ID, INSTITUTION_NAME, CATALOG_YEAR, CATALOG_URL\n",
    "    global Departments \n",
    "    \n",
    "    found_start_departments = False\n",
    "\n",
    "    fname = \"brevard-course_catalog.txt\"\n",
    "    with open(fname) as fp:\n",
    "        lines = fp.read().splitlines()\n",
    "\n",
    "    for i, line in enumerate(lines):\n",
    "        line = line.replace(u'\\xa0', u' ').strip()\n",
    "        if (0 == len(line) or PATTERN_REGEX_DOCUMENT_HEADER.search(line) or line in IGNORE_DOCUMENT_HEADER_PATTERN_LINES):\n",
    "            # empty line or document header line that gets printed in text, so skip/ignore\n",
    "            continue\n",
    "\n",
    "        if not found_start_departments and PATTERN_REGEX_START_DEPARTMENTS.search(line):\n",
    "            found_start_departments = True\n",
    "        elif found_start_departments:\n",
    "            new_department = PATTERN_REGEX_DEPARTMENT_NAME.findall(line)\n",
    "            if len(new_department) > 0:\n",
    "                # so initialize fields for new department\n",
    "                # print(\"DEPARTMENT=\", new_department[0])\n",
    "                department = Department(INSTITUTION_ID, INSTITUTION_NAME, CATALOG_YEAR, CATALOG_URL)\n",
    "                department.set_department_name(new_department[0].strip())\n",
    "                Departments.append(department)\n",
    "            elif PATTERN_REGEX_END_DEPARTMENTS.search(line):\n",
    "                # print(\"THIS IS THE END\")\n",
    "                # exit parsing we are done!\n",
    "                break\n",
    "            else:\n",
    "                # new course\n",
    "                new_course = PATTERN_REGEX_NEW_COURSE.findall(line)\n",
    "                if len(new_course) > 0:\n",
    "                    # so initialize fields for new course\n",
    "                    course = Course()\n",
    "                    course.set_code(new_course[0][0])\n",
    "                    course.set_name(new_course[0][1])\n",
    "                    course.set_credit_hours(str(new_course[0][2]))\n",
    "\n",
    "                    Departments[len(Departments)-1].courses.append(course)\n",
    "                else:\n",
    "                    # irrelevant line or update fields within the current course\n",
    "                    if len(Departments) > 0 and len(Departments[len(Departments)-1].courses) > 0:\n",
    "                        # non-empty line, please assume everything is related to course description\n",
    "                        Departments[len(Departments)-1].courses[len(Departments[len(Departments)-1].courses)-1].check_and_update_offerings_description_lines(line)\n",
    "\n",
    "        # now iterate through all courses across all departments, and normalize all course\n",
    "        # descriptions by extracting Prerequisites, Notes, Offerings, Recommendations, Lecture/Labs, \n",
    "        for department in Departments:\n",
    "            for course in department.courses:\n",
    "                val = course.PATTERN_REGEX_OFFERINGS.findall(course.description)\n",
    "                if len(val) > 0:\n",
    "                    course.offerings = val[0]\n",
    "                val = course.PATTERN_REGEX_PREREQUISITE.findall(course.description)\n",
    "                if len(val) > 0:\n",
    "                    course.prerequisites = val[0]\n",
    "                val = course.PATTERN_REGEX_NOTES.findall(course.description)\n",
    "                if len(val) > 0:\n",
    "                    course.notes = val[0]\n",
    "                val = course.PATTERN_REGEX_LESSONS_LABS.findall(course.description)\n",
    "                if len(val) > 0:\n",
    "                    course.lessons = val[0][0]\n",
    "                    course.labs = val[0][1]\n",
    "                "
   ]
  },
  {
   "cell_type": "code",
   "execution_count": 8,
   "metadata": {
    "scrolled": false
   },
   "outputs": [],
   "source": [
    "# sampling test\n",
    "def run_sample_test(random_department_index, random_course_index):\n",
    "    if -1 == random_department_index:\n",
    "        random_department_index = random.randint(0, len(Departments) - 1)\n",
    "    if -1 == random_course_index:\n",
    "        random_course_index = random.randint(0, len(Departments[random_department_index].courses) - 1)\n",
    "    # random_department_index =  14\n",
    "    # random_course_index =  32\n",
    "\n",
    "    print(\"random_department_index = \", random_department_index)\n",
    "    Departments[random_department_index].display_institution_id()\n",
    "    Departments[random_department_index].display_institution_name()\n",
    "    Departments[random_department_index].display_department_name()\n",
    "    Departments[random_department_index].display_number_of_courses()\n",
    "    print(\"random_course_index = \", random_course_index)\n",
    "\n",
    "    #print(\"actual courses=\",len(departments[random_department_index][\"courses\"]))\n",
    "    print(\"courses length = \", len(Departments[random_department_index].courses))\n",
    "    print(\"\\tcourse name = \", Departments[random_department_index].courses[random_course_index].name)\n",
    "    print(\"\\tcourse code = \", Departments[random_department_index].courses[random_course_index].code)\n",
    "    print(\"\\tlessons = \", Departments[random_department_index].courses[random_course_index].lessons)\n",
    "    print(\"\\tlabs = \", Departments[random_department_index].courses[random_course_index].labs)\n",
    "    print(\"\\tofferings = \", Departments[random_department_index].courses[random_course_index].offerings)\n",
    "    print(\"\\tcredit hours = \", Departments[random_department_index].courses[random_course_index].credit_hours)\n",
    "    print(\"\\tcourse description = \", Departments[random_department_index].courses[random_course_index].description)\n",
    "    # print(Departments[random_department_index].courses[random_course_index])\n",
    "    print(\"\\tprerequisites = \", Departments[random_department_index].courses[random_course_index].prerequisites)\n",
    "    print(\"\\tnotes = \", Departments[random_department_index].courses[random_course_index].notes)\n"
   ]
  },
  {
   "cell_type": "code",
   "execution_count": 9,
   "metadata": {
    "scrolled": false
   },
   "outputs": [],
   "source": [
    "if __name__== \"__main__\":\n",
    "    main()\n",
    "    dump_output(Departments, \"data/brevard_college_raw.csv\")"
   ]
  },
  {
   "cell_type": "code",
   "execution_count": null,
   "metadata": {
    "scrolled": true
   },
   "outputs": [],
   "source": [
    "run_sample_test(-1, -1)"
   ]
  },
  {
   "cell_type": "code",
   "execution_count": null,
   "metadata": {},
   "outputs": [],
   "source": [
    "import re\n",
    "line = \"ART 130    2-D Design         3 Semester Hours\"\n",
    "# REGEX_NEW_COURSE = r'^([A-Z]+\\s+[0-9]+)\\s+([A-Za-z \\-0-9]{1,})\\s*([0-9]+)\\s+Semester Hour[s]*\\s*$'\n",
    "PATTERN_REGEX_NEW_COURSE = re.compile(REGEX_NEW_COURSE, re.IGNORECASE)\n",
    "PATTERN_REGEX_NEW_COURSE.findall(line)"
   ]
  },
  {
   "cell_type": "markdown",
   "metadata": {},
   "source": [
    ":,/()’'. MUS 301/302    WLE 257*  \n",
    "grep -E '^[A-Z]{3,3} [0-9]{3,3}[A-Z\\*\\/]{0,1}[0-9]{0,3}\\s+.*Semesters* Hours*' brevard-course_catalog.txt |wc -l\n",
    "\n",
    "grep -E '^[A-Z]{3,3} [0-9]{3,3}[A-Z\\*\\/]{0,1}[0-9]{0,3}\\s+([A-Za-z \\-0-9]{1,})\\s*([0-9]+)Semesters* Hours*' brevard-course_catalog.txt |wc -l\n",
    "\n",
    "^([A-Z]{3,3} [0-9]{3,3}[A-Z\\*\\/]{0,1}[0-9]{0,3})\\s+(?:\\s+[A-Za-z0-9\\-]+)+\\s+([0-9]+)\\s+Semester Hour\n"
   ]
  }
 ],
 "metadata": {
  "kernelspec": {
   "display_name": "Python 3",
   "language": "python",
   "name": "python3"
  },
  "language_info": {
   "codemirror_mode": {
    "name": "ipython",
    "version": 3
   },
   "file_extension": ".py",
   "mimetype": "text/x-python",
   "name": "python",
   "nbconvert_exporter": "python",
   "pygments_lexer": "ipython3",
   "version": "3.7.0"
  }
 },
 "nbformat": 4,
 "nbformat_minor": 2
}
