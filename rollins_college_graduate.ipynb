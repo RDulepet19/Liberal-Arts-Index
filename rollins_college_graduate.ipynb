{
 "cells": [
  {
   "cell_type": "markdown",
   "metadata": {},
   "source": [
    "MIT License\n",
    "\n",
    "Copyright (c) 2018 Riya Dulepet <riyadulepet123@gmail.com>\n",
    "\n",
    "Permission is hereby granted, free of charge, to any person obtaining a copy of this software and associated documentation files (the \"Software\"), to deal in the Software without restriction, including without limitation the rights to use, copy, modify, merge, publish, distribute, sublicense, and/or sell copies of the Software, and to permit persons to whom the Software is furnished to do so, subject to the following conditions:\n",
    "\n",
    "The above copyright notice and this permission notice shall be included in all copies or substantial portions of the Software.\n",
    "\n",
    "THE SOFTWARE IS PROVIDED \"AS IS\", WITHOUT WARRANTY OF ANY KIND, EXPRESS OR IMPLIED, INCLUDING BUT NOT LIMITED TO THE WARRANTIES OF MERCHANTABILITY, FITNESS FOR A PARTICULAR PURPOSE AND NONINFRINGEMENT. IN NO EVENT SHALL THE AUTHORS OR COPYRIGHT HOLDERS BE LIABLE FOR ANY CLAIM, DAMAGES OR OTHER LIABILITY, WHETHER IN AN ACTION OF CONTRACT, TORT OR OTHERWISE, ARISING FROM, OUT OF OR IN CONNECTION WITH THE SOFTWARE OR THE USE OR OTHER DEALINGS IN THE SOFTWARE.\n",
    "\n",
    "Thanks to the entire Columbia INCITE team for suggestions/recommendations, collaboration, critic, advice, and mentoring. This code was generated as part of internship @INCITE Columbia for Lit Index project."
   ]
  },
  {
   "cell_type": "markdown",
   "metadata": {},
   "source": [
    "# Scraper for Rollins College Course Description"
   ]
  },
  {
   "cell_type": "markdown",
   "metadata": {},
   "source": [
    "## Setup environment\n",
    "* Make sure Java is installed\n",
    "* Download [Apache Tika](http://apache.mirrors.ionfish.org/tika/tika-app-1.19.1.jar)"
   ]
  },
  {
   "cell_type": "markdown",
   "metadata": {},
   "source": [
    "## Download Rollins College Course Descriptions\n",
    "* [Download Rollins College Undergraduate Course Description PDF](https://www.rollins.edu/evening/documents/catalogs/UndergraduateCatalog.pdf) and rename to rollins-college-UndergraduateCatalog.pdf\n",
    "* [Download Rollins College Graduate Course Description PDF](https://www.rollins.edu/evening/documents/catalogs/GraduateCatalog.pdf) and rename to rollins-college-GraduateCatalog.pdf\n"
   ]
  },
  {
   "cell_type": "markdown",
   "metadata": {},
   "source": [
    "## Extract Plain Text file from PDF using Apache TIKA\n",
    "* java  -jar tika-app-1.19.1.jar -t rollins-college-UndergraduateCatalog.pdf > rollins-college-UndergraduateCatalog.txt*\n",
    "* java  -jar tika-app-1.19.1.jar -t rollins-college-GraduateCatalog.pdf > rollins-college-GraduateCatalog.txt*\n"
   ]
  },
  {
   "cell_type": "markdown",
   "metadata": {},
   "source": [
    "### Extract manually exact name and unit ID\n",
    "[IPED website](https://nces.ed.gov/ipeds/datacenter/InstitutionList.aspx?addUnitID=acaeb1b4b0ab)\n",
    "* `UnitID`\t136950\n",
    "* `Name`\tRollins College"
   ]
  },
  {
   "cell_type": "code",
   "execution_count": 107,
   "metadata": {},
   "outputs": [],
   "source": [
    "INSTITUTION_ID = '136950'\n",
    "INSTITUTION_NAME = 'Rollins College'\n",
    "CATALOG_YEAR = '2018' # It's the 2018-2019 academic year catalog\n",
    "UNDERGRADUATE_CATALOG_URL = 'https://www.rollins.edu/evening/documents/catalogs/UndergraduateCatalog.pdf'\n",
    "GRADUATE_CATALOG_URL = 'https://www.rollins.edu/evening/documents/catalogs/GraduateCatalog.pdf'\n"
   ]
  },
  {
   "cell_type": "markdown",
   "metadata": {},
   "source": [
    "### Rules of extraction (for each department)\n",
    "* Sequence is important\n",
    "* Line starting with **COURSES** - Indicates start of course descriptions\n",
    "* Line starting with **FACULTY** - Indicates end of course descriptions\n",
    "* Department name is line that contains case-sensitive, for example ACCOUNTING (ACC) or ART HISTORY (ART) on its own\n",
    "\n",
    "### Rules of Extraction (for each course)\n",
    "* Sequence is important\n",
    "* Line containing **Semester Hour(s)** at the end should be treated as new course\n",
    "* Ignore all empty lines\n",
    "* Example line in the format \"WLE 101 Introduction to Outdoor Education 4 Semester Hours\" is start of a new course\n",
    "* It should be broken into `Course Code` (alphanumeric), `Course Title` (string could be multiple words), `Credit Hours` (floating point number with decimal) **Credit Hours**\n",
    "* The next non-empty line should be treated as `Course Description` (some paragraph/multiple lines of text, should be combined into one line)\n",
    "* The `Course Description` can be used to parse out optionally, `Offerings`, `Prerequisites`, `Lessons`, `Labs`, and `Notes`\n",
    "\n",
    "\n",
    "## Solution Architecture\n",
    "#### To extract desired Course Descriptions, we define primarily two classes:\n",
    "* `Department`\n",
    "* `Course`\n",
    "#### In addition:\n",
    "* `Department` is a container for number of `Course`(s)\n",
    "* `Departments` is a `list/collection` of `Department`\n",
    "#### Processing Methodology implements the Rules described earlier for parsing each `Department` and each `Course' within it"
   ]
  },
  {
   "cell_type": "code",
   "execution_count": 147,
   "metadata": {},
   "outputs": [],
   "source": [
    "import re\n",
    "# constants\n",
    "# added manually following departments since it doesn't exist in catalog but courses still exist\n",
    "MAP_GRADUATE_DEPARTMENTS = {\"BACS\":\"Applied Behavior Analysis And Clinical Science\", \\\n",
    "                            \"CPY\":\"Clinical Mental Health Counseling\", \\\n",
    "                            \"PSY\":\"Clinical Mental Health Counseling\", \\\n",
    "                            \"EDU\":\"Education\", \"EED\": \"Elementary Education\", \\\n",
    "                            \"RED\":\"Reading in Elementary Education\", \\\n",
    "                            \"MHR\":\"Human Resource Management\", \\\n",
    "                            \"MLS\":\"Liberal Studies\", \"MPH\":\"Public Health\"}\n",
    "\n",
    "\n",
    "REGEX_START_NEXT_DEPARTMENT = r'^\\s*COURSE DESCRIPTIONS\\s*$'\n",
    "PATTERN_REGEX_START_NEXT_DEPARTMENT = re.compile(REGEX_START_NEXT_DEPARTMENT)\n",
    "\n",
    "REGEX_END_CURRENT_DEPARTMENT = r'^\\s*FACULTY\\s*$'\n",
    "PATTERN_REGEX_END_CURRENT_DEPARTMENT = re.compile(REGEX_END_CURRENT_DEPARTMENT, re.IGNORECASE)\n",
    "\n",
    "REGEX_END_DEPARTMENTS = r'^\\s*BOARD OF TRUSTEES\\s*$'\n",
    "PATTERN_REGEX_END_DEPARTMENTS = re.compile(REGEX_END_DEPARTMENTS)\n",
    "\n",
    "REGEX_DEPARTMENT_NAME = r'^([A-Z ]+)\\s*\\([A-Z]+\\)\\s*$'\n",
    "PATTERN_REGEX_DEPARTMENT_NAME = re.compile(REGEX_DEPARTMENT_NAME)\n",
    "\n",
    "\n",
    "REGEX_NEW_COURSE = r'^\\s*(\\b[A-Z]{3,4}\\b\\s+\\b[0-9]{3,4}[A-Z]{0,1}\\b):*\\s+(.*)\\[(\\d\\-*\\d*)\\]\\s*$'\n",
    "PATTERN_REGEX_NEW_COURSE = re.compile(REGEX_NEW_COURSE)\n",
    "\n",
    "REGEX_DOCUMENT_HEADER = r'^\\s*[0-9]+\\s*$'\n",
    "PATTERN_REGEX_DOCUMENT_HEADER = re.compile(REGEX_DOCUMENT_HEADER)\n",
    "\n",
    "IGNORE_DOCUMENT_HEADER_PATTERN_LINES = ['Electives']\n",
    "\n",
    "REGEX_DEBUG = r'PSY 683: Advanced Multicultural Counseling Practicum'\n",
    "PATTERN_REGEX_DEBUG = re.compile(REGEX_DEBUG)"
   ]
  },
  {
   "cell_type": "code",
   "execution_count": 148,
   "metadata": {},
   "outputs": [],
   "source": [
    "import json\n",
    "\n",
    "class Course:\n",
    "    'Common base class for all courses'\n",
    "    REGEX_OFFERINGS = r'Offered\\s*(.*?)\\.'\n",
    "    PATTERN_REGEX_OFFERINGS = re.compile(REGEX_OFFERINGS, re.IGNORECASE)\n",
    "\n",
    "    REGEX_PREREQUISITE = r'Prerequisite[s]*:\\s*(.*?)\\.'\n",
    "    PATTERN_REGEX_PREREQUISITE = re.compile(REGEX_PREREQUISITE, re.IGNORECASE)\n",
    "\n",
    "    REGEX_COREQUISITE = r'Co\\-*requisite[s]*:\\s*(.*?)\\.'\n",
    "    PATTERN_REGEX_COREQUISITE = re.compile(REGEX_COREQUISITE, re.IGNORECASE)\n",
    "    \n",
    "    REGEX_NOTES = r'Note[s]*:\\s*(.*?)\\.'\n",
    "    PATTERN_REGEX_NOTES = re.compile(REGEX_NOTES, re.IGNORECASE)\n",
    "\n",
    "\n",
    "    # make class JSON serializable\n",
    "    def toJSON(self):\n",
    "        return json.dumps(self, default=lambda o: o.__dict__, \n",
    "            sort_keys=True, indent=4)\n",
    "        \n",
    "    def __repr__(self):\n",
    "        from pprint import pformat\n",
    "        return pformat(vars(self), indent=4, width=1)\n",
    "    \n",
    "    def __init__(self, code = None, name = None, credit_hours = None):\n",
    "        # initialize class\n",
    "        self.code = code\n",
    "        self.name = name\n",
    "        self.credit_hours = credit_hours\n",
    "        \n",
    "        # other member variables\n",
    "        self.offerings = \"\"\n",
    "        self.description = \"\"\n",
    "        self.prerequisites = \"\"\n",
    "        self.corequisites = \"\"\n",
    "        self.notes = \"\"\n",
    "\n",
    "    def set_code(self, code):\n",
    "        self.code = code\n",
    "    \n",
    "    def set_name(self, name):\n",
    "        self.name = name\n",
    "    \n",
    "    def set_credit_hours(self, credit_hours):\n",
    "        self.credit_hours = credit_hours\n",
    "    \n",
    "    def check_and_update_offerings_description_lines(self, line):\n",
    "        self.description += \" \"\n",
    "        self.description += line\n"
   ]
  },
  {
   "cell_type": "code",
   "execution_count": 149,
   "metadata": {},
   "outputs": [],
   "source": [
    "import json\n",
    "class Department:\n",
    "    'Common base class for all departments'\n",
    "\n",
    "    def __repr__(self):\n",
    "        from pprint import pformat\n",
    "        return pformat(vars(self), indent=4, width=1)\n",
    "    \n",
    "    def __init__(self, institution_id = None, institution_name = None, \\\n",
    "                 catalog_year = None, url = None, name = None, num_of_courses = None):\n",
    "        # initialize class\n",
    "        self.institution_id = institution_id\n",
    "        self.institution_name = institution_name\n",
    "        self.catalog_year = catalog_year\n",
    "        self.url = url\n",
    "        self.department_name = name\n",
    "        self.courses = []\n",
    "\n",
    "    # make class JSON serializable\n",
    "    def toJSON(self):\n",
    "        return json.dumps(self, default=lambda o: o.__dict__, \n",
    "            sort_keys=True, indent=4)\n",
    "    \n",
    "    def set_department_name(self, department_name):\n",
    "        self.department_name = MAP_GRADUATE_DEPARTMENTS[department_name]\n",
    "\n",
    "    def add_course(self, course):\n",
    "        self.courses.append(course)\n",
    "        \n",
    "    def display_institution_id(self):\n",
    "        print (\"Institution ID: %s\" % self.institution_id)\n",
    "        \n",
    "    def display_institution_name(self):\n",
    "        print (\"Institution Name: %s\" % self.institution_name)\n",
    "        \n",
    "    def display_department_name(self):\n",
    "        print (\"Department Name: %s\" % self.department_name)\n",
    "\n",
    "    def display_number_of_courses(self):\n",
    "        print (\"Number of Courses: %d\" % len(self.courses))\n"
   ]
  },
  {
   "cell_type": "code",
   "execution_count": 150,
   "metadata": {},
   "outputs": [],
   "source": [
    "import pandas as pd\n",
    "      \n",
    "def dump_output(departments, file_to_save):\n",
    "    df_college = pd.DataFrame(columns=['ipeds_id', 'ipeds_name', 'catalog_year', 'url', \\\n",
    "                                       'subject', 'subject_code', 'course_number', 'description', \\\n",
    "                                       'course_name', 'credits', 'prereqs', 'corequisites_raw', \\\n",
    "                                       'offerings_raw', 'notes_raw'])\n",
    "    for department in departments:\n",
    "        for course in department.courses:\n",
    "            # handle only records with course description, otherwise ignore\n",
    "            if course.description.strip():\n",
    "                df_college.loc[len(df_college)] = [department.institution_id, department.institution_name, \\\n",
    "                                                   department.catalog_year, department.url, \\\n",
    "                                                   department.department_name.strip(), \\\n",
    "                                                   re.compile(r'^([A-Za-z]+)(.*)$').findall(course.code)[0][0], \\\n",
    "                                                   re.compile(r'^([A-Za-z]+)(.*)$').findall(course.code)[0][1], \\\n",
    "                                                   course.description.strip(), course.name.strip(), \\\n",
    "                                                   str(course.credit_hours), \\\n",
    "                                                   course.prerequisites.strip(), course.corequisites.strip(), \\\n",
    "                                                   course.offerings.strip(), \\\n",
    "                                                   course.notes.strip()]\n",
    "    df_college.to_csv(file_to_save, index=False)"
   ]
  },
  {
   "cell_type": "code",
   "execution_count": 166,
   "metadata": {},
   "outputs": [],
   "source": [
    "import re, random\n",
    "Departments = []\n",
    "all_departments_found = []\n",
    "\n",
    "def main():\n",
    "    global INSTITUTION_ID, INSTITUTION_NAME, CATALOG_YEAR, CATALOG_URL\n",
    "    global Departments \n",
    "    \n",
    "    found_start_departments = False\n",
    "    found_course = False\n",
    "    # keep track of last two lines (to avoid false positives when identifying new course)\n",
    "    prev_prev_line = \"\"\n",
    "    prev_line = \"\"\n",
    "\n",
    "    fname = \"rollins-college-GraduateCatalog.txt\"\n",
    "    with open(fname) as fp:\n",
    "        lines = fp.read().splitlines()\n",
    "\n",
    "    for i, line in enumerate(lines):\n",
    "        line = line.replace(u'\\xa0', u' ').strip()\n",
    "        \n",
    "        if (0 == len(line) or PATTERN_REGEX_DOCUMENT_HEADER.search(line) or line in IGNORE_DOCUMENT_HEADER_PATTERN_LINES):\n",
    "            # empty line or document header line that gets printed in text, so skip/ignore\n",
    "            # keep track of last two lines\n",
    "            prev_prev_line = prev_line.strip()\n",
    "            prev_line = line.strip()\n",
    "            continue\n",
    "\n",
    "        if not found_start_departments and PATTERN_REGEX_START_NEXT_DEPARTMENT.search(line):\n",
    "            found_start_departments = True\n",
    "            found_course = False\n",
    "        elif found_start_departments:\n",
    "            if PATTERN_REGEX_END_DEPARTMENTS.search(line):\n",
    "                # print(\"THIS IS THE END\")\n",
    "                # exit parsing we are done!\n",
    "                break\n",
    "            elif PATTERN_REGEX_END_CURRENT_DEPARTMENT.search(line):\n",
    "                # expect next department from now on\n",
    "                found_start_departments = False\n",
    "                prev_prev_line = \"\"\n",
    "                prev_line = \"\"\n",
    "                found_course = False\n",
    "            else:\n",
    "                # new course\n",
    "                new_course = PATTERN_REGEX_NEW_COURSE.findall(line)\n",
    "                if len(new_course) > 0 and not prev_line:\n",
    "                    found_course = True\n",
    "                    # there at least new lines before each course\n",
    "                    # so initialize fields for new course\n",
    "                    # so initialize fields for new department, create new department if it doesn't exist\n",
    "                    new_department = new_course[0][0].split()[0].strip()\n",
    "                    if new_department not in all_departments_found:\n",
    "                        department = Department(INSTITUTION_ID, INSTITUTION_NAME, CATALOG_YEAR, UNDERGRADUATE_CATALOG_URL)\n",
    "                        try:\n",
    "                            department.set_department_name(new_department)\n",
    "                        except:\n",
    "                            print(\"An unexpected error occurred, line=%s, prev_line=%s, prev_prev_line=%s\" % (line, prev_line, prev_prev_line))\n",
    "                            raise                            \n",
    "                        Departments.append(department)\n",
    "                        all_departments_found.append(new_department)\n",
    "                    # create new course\n",
    "                    course = Course()\n",
    "                    course.set_code(new_course[0][0])\n",
    "                    course.set_name(new_course[0][1])\n",
    "                    course.set_credit_hours(str(new_course[0][2]))\n",
    "\n",
    "                    Departments[len(Departments)-1].courses.append(course)\n",
    "                else:\n",
    "                    # irrelevant line or update fields within the current course\n",
    "                    if found_course and len(Departments) > 0 and len(Departments[len(Departments)-1].courses) > 0:\n",
    "                        # non-empty line, please assume everything is related to course description\n",
    "                        Departments[len(Departments)-1].courses[len(Departments[len(Departments)-1].courses)-1].check_and_update_offerings_description_lines(line)\n",
    "        # keep track of last two lines\n",
    "        prev_prev_line = prev_line.strip()\n",
    "        prev_line = line.strip()\n",
    "\n",
    "    # now iterate through all courses across all departments, and normalize all course\n",
    "    # descriptions by extracting Prerequisites, Notes, Offerings, Recommendations, Lecture/Labs, \n",
    "    for department in Departments:\n",
    "        for course in department.courses:\n",
    "            val = course.PATTERN_REGEX_OFFERINGS.findall(course.description)\n",
    "            if len(val) > 0:\n",
    "                course.offerings = val[0]\n",
    "            val = course.PATTERN_REGEX_PREREQUISITE.findall(course.description)\n",
    "            if len(val) > 0:\n",
    "                course.prerequisites = val[0]\n",
    "            val = course.PATTERN_REGEX_COREQUISITE.findall(course.description)\n",
    "            if len(val) > 0:\n",
    "                course.corequisites = val[0]\n",
    "            val = course.PATTERN_REGEX_NOTES.findall(course.description)\n",
    "            if len(val) > 0:\n",
    "                course.notes = val[0]"
   ]
  },
  {
   "cell_type": "code",
   "execution_count": 167,
   "metadata": {
    "scrolled": false
   },
   "outputs": [],
   "source": [
    "# sampling test\n",
    "def run_sample_test(random_department_index, random_course_index):\n",
    "    if -1 == random_department_index:\n",
    "        random_department_index = random.randint(0, len(Departments) - 1)\n",
    "    if -1 == random_course_index:\n",
    "        random_course_index = random.randint(0, len(Departments[random_department_index].courses) - 1)\n",
    "    # random_department_index =  14\n",
    "    # random_course_index =  32\n",
    "\n",
    "    print(\"random_department_index = \", random_department_index)\n",
    "    Departments[random_department_index].display_institution_id()\n",
    "    Departments[random_department_index].display_institution_name()\n",
    "    Departments[random_department_index].display_department_name()\n",
    "    Departments[random_department_index].display_number_of_courses()\n",
    "    print(\"random_course_index = \", random_course_index)\n",
    "\n",
    "    #print(\"actual courses=\",len(departments[random_department_index][\"courses\"]))\n",
    "    print(\"courses length = \", len(Departments[random_department_index].courses))\n",
    "    print(\"\\tcourse name = \", Departments[random_department_index].courses[random_course_index].name)\n",
    "    print(\"\\tcourse code = \", Departments[random_department_index].courses[random_course_index].code)\n",
    "    print(\"\\tofferings = \", Departments[random_department_index].courses[random_course_index].offerings)\n",
    "    print(\"\\tcourse description = \", Departments[random_department_index].courses[random_course_index].description)\n",
    "    # print(Departments[random_department_index].courses[random_course_index])\n",
    "    print(\"\\tprerequisites = \", Departments[random_department_index].courses[random_course_index].prerequisites)\n",
    "    print(\"\\tnotes = \", Departments[random_department_index].courses[random_course_index].notes)\n"
   ]
  },
  {
   "cell_type": "code",
   "execution_count": 168,
   "metadata": {
    "scrolled": false
   },
   "outputs": [],
   "source": [
    "if __name__== \"__main__\":\n",
    "    main()\n",
    "    dump_output(Departments, \"data/rollins_college_graduate_raw.csv\")"
   ]
  },
  {
   "cell_type": "code",
   "execution_count": 55,
   "metadata": {
    "scrolled": false
   },
   "outputs": [
    {
     "name": "stdout",
     "output_type": "stream",
     "text": [
      "random_department_index =  2\n",
      "Institution ID: 136950\n",
      "Institution Name: Rollins College\n",
      "Department Name: Education\n",
      "Number of Courses: 26\n",
      "random_course_index =  3\n",
      "courses length =  26\n",
      "\tcourse name =  Teaching in a 21st Century Classroom \n",
      "\tcourse code =  EDU 510\n",
      "\tofferings =  \n",
      "\tcourse description =   This course offers the students a firsthand study of the components of a 21st century classroom. They will learn about cutting-edge techniques, software, hardware, and learning styles of today’s digital native. EDU 512 Strategies for Instruction, Learning and Classroom Management with Diverse Elementary Learners [3] This course examines current and emerging school programs found in grades K-6. Topics include learner diversity, planning, and delivery of instruction and assessment procedures. ESOL infused course. Prerequisites: EDU 501 and EDU 504.\n",
      "\tprerequisites =  EDU 501 and EDU 504\n",
      "\tnotes =  \n"
     ]
    }
   ],
   "source": [
    "run_sample_test(-1, -1)"
   ]
  },
  {
   "cell_type": "code",
   "execution_count": 75,
   "metadata": {},
   "outputs": [
    {
     "data": {
      "text/plain": [
       "[('RED 599', 'Independent Study ', '3')]"
      ]
     },
     "execution_count": 75,
     "metadata": {},
     "output_type": "execute_result"
    }
   ],
   "source": [
    "REGEX_NEW_COURSE = r'^\\s*(\\b[A-Z]{3,4}\\b\\s+\\b[0-9]{3,4}[A-Z]{0,1}\\b)\\s+(.*)\\[(\\d\\-*\\d*)\\]\\s*$'\n",
    "PATTERN_REGEX_NEW_COURSE = re.compile(REGEX_NEW_COURSE)\n",
    "line = \"RED 599 Independent Study [3]\"\n",
    "PATTERN_REGEX_NEW_COURSE.findall(line)"
   ]
  },
  {
   "cell_type": "code",
   "execution_count": null,
   "metadata": {},
   "outputs": [],
   "source": []
  }
 ],
 "metadata": {
  "kernelspec": {
   "display_name": "Python 3",
   "language": "python",
   "name": "python3"
  },
  "language_info": {
   "codemirror_mode": {
    "name": "ipython",
    "version": 3
   },
   "file_extension": ".py",
   "mimetype": "text/x-python",
   "name": "python",
   "nbconvert_exporter": "python",
   "pygments_lexer": "ipython3",
   "version": "3.7.0"
  }
 },
 "nbformat": 4,
 "nbformat_minor": 2
}
